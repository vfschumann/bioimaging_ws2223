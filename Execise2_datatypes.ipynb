{
 "cells": [
  {
   "cell_type": "markdown",
   "source": [
    "## Special string and characters"
   ],
   "metadata": {
    "collapsed": false,
    "pycharm": {
     "name": "#%% md\n"
    }
   }
  },
  {
   "cell_type": "code",
   "execution_count": 1,
   "outputs": [
    {
     "name": "stdout",
     "output_type": "stream",
     "text": [
      "\"Hello world!\"\n"
     ]
    }
   ],
   "source": [
    "# include double quotes\n",
    "print(\"\\\"Hello world!\\\"\")"
   ],
   "metadata": {
    "collapsed": false,
    "pycharm": {
     "name": "#%%\n"
    }
   }
  },
  {
   "cell_type": "code",
   "execution_count": 3,
   "outputs": [
    {
     "name": "stdout",
     "output_type": "stream",
     "text": [
      "Hello world!\n",
      "Hello world, it’s me!\n"
     ]
    }
   ],
   "source": [
    "print('Hello world!')\n",
    "print(\"Hello world, it’s me!\")"
   ],
   "metadata": {
    "collapsed": false,
    "pycharm": {
     "name": "#%%\n"
    }
   }
  },
  {
   "cell_type": "markdown",
   "source": [
    "## Lists"
   ],
   "metadata": {
    "collapsed": false,
    "pycharm": {
     "name": "#%% md\n"
    }
   }
  },
  {
   "cell_type": "code",
   "execution_count": 11,
   "outputs": [
    {
     "name": "stdout",
     "output_type": "stream",
     "text": [
      "[1, 2, 3, 4, 5]\n",
      "1\n",
      "[1, 2, 99, 4, 5]\n",
      "[1, 2, 99, 4, 5, 6, 7]\n"
     ]
    }
   ],
   "source": [
    "a = [1,2,3,4,5]\n",
    "print(a)\n",
    "\n",
    "# extract first value\n",
    "a1 = a[0]\n",
    "print(a1)\n",
    "\n",
    "# exchange single value\n",
    "a[2] = 99\n",
    "print(a)\n",
    "\n",
    "# append\n",
    "a.extend((6,7))\n",
    "print(a)"
   ],
   "metadata": {
    "collapsed": false,
    "pycharm": {
     "name": "#%%\n"
    }
   }
  },
  {
   "cell_type": "markdown",
   "source": [
    "## Tuples\n",
    "Tuples are similar to lists. Yet values are fixed after creation."
   ],
   "metadata": {
    "collapsed": false,
    "pycharm": {
     "name": "#%% md\n"
    }
   }
  },
  {
   "cell_type": "code",
   "execution_count": 25,
   "outputs": [
    {
     "data": {
      "text/plain": "tuple"
     },
     "execution_count": 25,
     "metadata": {},
     "output_type": "execute_result"
    }
   ],
   "source": [
    "# init tuple\n",
    "b = (1,2,3,4,5) # or use tuple(range(from x,to y))\n",
    "type(b)"
   ],
   "metadata": {
    "collapsed": false,
    "pycharm": {
     "name": "#%%\n"
    }
   }
  },
  {
   "cell_type": "code",
   "execution_count": 26,
   "outputs": [
    {
     "ename": "TypeError",
     "evalue": "'tuple' object does not support item assignment",
     "output_type": "error",
     "traceback": [
      "\u001B[0;31m---------------------------------------------------------------------------\u001B[0m",
      "\u001B[0;31mTypeError\u001B[0m                                 Traceback (most recent call last)",
      "Input \u001B[0;32mIn [26]\u001B[0m, in \u001B[0;36m<cell line: 2>\u001B[0;34m()\u001B[0m\n\u001B[1;32m      1\u001B[0m \u001B[38;5;66;03m# try to modify last item\u001B[39;00m\n\u001B[0;32m----> 2\u001B[0m b[\u001B[38;5;241m4\u001B[39m] \u001B[38;5;241m=\u001B[39m \u001B[38;5;241m8\u001B[39m\n",
      "\u001B[0;31mTypeError\u001B[0m: 'tuple' object does not support item assignment"
     ]
    }
   ],
   "source": [
    "# try to modify last item\n",
    "b[4] = 8"
   ],
   "metadata": {
    "collapsed": false,
    "pycharm": {
     "name": "#%%\n"
    }
   }
  },
  {
   "cell_type": "code",
   "execution_count": 33,
   "outputs": [
    {
     "name": "stdout",
     "output_type": "stream",
     "text": [
      "(1, 2, 3, 4, 5)\n",
      "(1, 2, 3, 4, 5, 6, 7, 8, 9, 10)\n",
      "num of items in tuple: 10\n",
      "sum of all items: 55\n",
      "mean: 5.5\n"
     ]
    }
   ],
   "source": [
    "b = (1,2,3,4,5)\n",
    "# extend\n",
    "print(b)\n",
    "b = b + (tuple(range(6,11)))\n",
    "print(b)\n",
    "\n",
    "# number of items\n",
    "print(f\"num of items in tuple: {len(b)}\")\n",
    "\n",
    "# get sum of all items\n",
    "print(f\"sum of all items: {sum(b)}\")\n",
    "\n",
    "# mean of all items\n",
    "mean = sum(b)/len(b)\n",
    "print(f\"mean: {mean}\")"
   ],
   "metadata": {
    "collapsed": false,
    "pycharm": {
     "name": "#%%\n"
    }
   }
  },
  {
   "cell_type": "markdown",
   "source": [
    "## Mixed lists"
   ],
   "metadata": {
    "collapsed": false,
    "pycharm": {
     "name": "#%% md\n"
    }
   }
  },
  {
   "cell_type": "code",
   "execution_count": 49,
   "outputs": [
    {
     "name": "stdout",
     "output_type": "stream",
     "text": [
      "type 2nd item: <class 'int'>\n",
      "type 6th item: <class 'str'>\n",
      " type of last item: <class 'float'>\n"
     ]
    }
   ],
   "source": [
    "d = [1,2,3,4,5, \"Hello world!\", 4.0]\n",
    "print(f\"type 2nd item: {type(d[1])}\\n\"\n",
    "      f\"type 6th item: {type(d[5])}\\n \"\n",
    "      f\"type of last item: {type(d[-1])}\")"
   ],
   "metadata": {
    "collapsed": false,
    "pycharm": {
     "name": "#%%\n"
    }
   }
  },
  {
   "cell_type": "markdown",
   "source": [
    "The data types really stay the same. I wasn't aware of this I have to say. So lists are comparable with R arrays?"
   ],
   "metadata": {
    "collapsed": false,
    "pycharm": {
     "name": "#%% md\n"
    }
   }
  },
  {
   "cell_type": "markdown",
   "source": [
    "## Slices"
   ],
   "metadata": {
    "collapsed": false,
    "pycharm": {
     "name": "#%% md\n"
    }
   }
  },
  {
   "cell_type": "code",
   "execution_count": 69,
   "outputs": [
    {
     "name": "stdout",
     "output_type": "stream",
     "text": [
      "first 3 items of d: [1, 2, 3]\n",
      "items 2 and the last one: (2, [4.0])\n",
      "all but the first one: [2, 3, 4, 5, 'Hello world!', 4.0]\n",
      "[3, 4, 4.0]\n"
     ]
    }
   ],
   "source": [
    "print(f\"first 3 items of d: {d[:3]}\")\n",
    "print(f\"items 2 and the last one: {d[1], d[6:7]}\") # this is not super pretty, can be done with numpy or itertools though\n",
    "print(f\"all but the first one: {d[1:]}\")\n",
    "\n",
    "# extract 3ed, 4th, 1st and assign to new var\n",
    "# e = d[2:4] + d[-1] # this doesn't work bc of mixed integer types\n",
    "e = d[2:4]\n",
    "e.append(d[-1]) # this does work while preserving data typer\n",
    "print(e)"
   ],
   "metadata": {
    "collapsed": false,
    "pycharm": {
     "name": "#%%\n"
    }
   }
  },
  {
   "cell_type": "markdown",
   "source": [
    "## Character lists"
   ],
   "metadata": {
    "collapsed": false,
    "pycharm": {
     "name": "#%% md\n"
    }
   }
  },
  {
   "cell_type": "code",
   "execution_count": 92,
   "outputs": [
    {
     "name": "stdout",
     "output_type": "stream",
     "text": [
      "<class 'str'>\n",
      "length of abc: 26 vs length of a: 7\n",
      "first 7 letter of abc: abcdefg,\n",
      " last 7 letter of abc: tuvwxyz\n",
      "every second character: bdfhjlnprtvxz\n",
      "abc inverted: ['z', 'y', 'x', 'w', 'v', 'u', 't', 's', 'r', 'q', 'p', 'a', 'n', 'm', 'l', 'k', 'j', 'i', 'h', 'g', 'f', 'e', 'd', 'c', 'b', 'a']\n",
      "abc inverted as string: zyxwvutsrqpanmlkjihgfedcba\n"
     ]
    }
   ],
   "source": [
    "abc = \"abcdefghijklmnapqrstuvwxyz\"\n",
    "print(type(abc))\n",
    "print(f\"length of abc: {len(abc)} vs length of a: {len(a)}\")\n",
    "print(f\"first 7 letter of abc: {abc[:7]},\\n \"\n",
    "      f\"last 7 letter of abc: {abc[-7:]}\")\n",
    "print(f\"every second character: {abc[1::2]}\")\n",
    "print(f\"abc inverted: {list(reversed(abc))}\")\n",
    "# when you want to return the reversed string\n",
    "print(f\"abc inverted as string: {''.join(list(reversed(abc)))}\")"
   ],
   "metadata": {
    "collapsed": false,
    "pycharm": {
     "name": "#%%\n"
    }
   }
  },
  {
   "cell_type": "markdown",
   "source": [
    "## Dictionaries\n",
    "A dictonary allows you to map a key to one or multiple values."
   ],
   "metadata": {
    "collapsed": false,
    "pycharm": {
     "name": "#%% md\n"
    }
   }
  },
  {
   "cell_type": "code",
   "execution_count": 94,
   "outputs": [
    {
     "name": "stdout",
     "output_type": "stream",
     "text": [
      "<class 'dict'>\n"
     ]
    }
   ],
   "source": [
    "simple_dict =  {'a':1,\n",
    "               'b':2,\n",
    "               'c':3}\n",
    "print(type(simple_dict))"
   ],
   "metadata": {
    "collapsed": false,
    "pycharm": {
     "name": "#%%\n"
    }
   }
  },
  {
   "cell_type": "code",
   "execution_count": null,
   "outputs": [],
   "source": [
    "print(f\"value with key b: {simple_dict['b']}\")\n",
    "\n",
    "# add entries\n",
    "print(simple_dict)\n",
    "simple_dict['d'] = 4\n",
    "print(simple_dict)"
   ],
   "metadata": {
    "collapsed": false,
    "pycharm": {
     "name": "#%%\n"
    }
   }
  },
  {
   "cell_type": "code",
   "execution_count": 102,
   "outputs": [
    {
     "data": {
      "text/plain": "dict"
     },
     "execution_count": 102,
     "metadata": {},
     "output_type": "execute_result"
    }
   ],
   "source": [
    "# probably the wrong way\n",
    "f = {\"name\": [\"Fritz\", \"Jean\"], \"age\": [44,43], \"birthyear\": [1970,1970]}\n",
    "type(f)"
   ],
   "metadata": {
    "collapsed": false,
    "pycharm": {
     "name": "#%%\n"
    }
   }
  },
  {
   "cell_type": "code",
   "execution_count": 109,
   "outputs": [
    {
     "name": "stdout",
     "output_type": "stream",
     "text": [
      "age of Fritz: 44\n"
     ]
    }
   ],
   "source": [
    "# better way? https://realpython.com/sort-python-dictionary/#selecting-a-nested-value-with-a-sort-key\n",
    "\n",
    "f = {\"Fritz\": {\"age\":44, \"birthyear\":1970},\n",
    "     \"Jean\": {\"age\":43, \"brithyear\":1970}}\n",
    "\n",
    "print(f\"age of Fritz: {f['Fritz']['age']}\")"
   ],
   "metadata": {
    "collapsed": false,
    "pycharm": {
     "name": "#%%\n"
    }
   }
  },
  {
   "cell_type": "markdown",
   "source": [
    "## Multidimensional lists"
   ],
   "metadata": {
    "collapsed": false,
    "pycharm": {
     "name": "#%% md\n"
    }
   }
  },
  {
   "cell_type": "code",
   "execution_count": 110,
   "outputs": [],
   "source": [
    "table = []\n",
    "table.append([1,2,3,4,5])\n",
    "table.append([6,7,8,9,10])\n",
    "table.append([11,12,13,14,15])"
   ],
   "metadata": {
    "collapsed": false,
    "pycharm": {
     "name": "#%%\n"
    }
   }
  },
  {
   "cell_type": "code",
   "execution_count": 118,
   "outputs": [
    {
     "name": "stdout",
     "output_type": "stream",
     "text": [
      "[[1, 2, 3, 4, 5], [6, 7, 8, 9, 10], [11, 12, 13, 14, 15]]\n",
      "second row: [6, 7, 8, 9, 10]\n",
      "first element of the third row: 11\n",
      "mean of the first row: 3.0\n"
     ]
    }
   ],
   "source": [
    "print(table)\n",
    "print(f\"second row: {table[1]}\")\n",
    "print(f\"first element of the third row: {table[2][0]}\")\n",
    "print(f\"mean of the first row: {sum(table[0])/len(table[0])}\")"
   ],
   "metadata": {
    "collapsed": false,
    "pycharm": {
     "name": "#%%\n"
    }
   }
  },
  {
   "cell_type": "code",
   "execution_count": null,
   "outputs": [],
   "source": [],
   "metadata": {
    "collapsed": false,
    "pycharm": {
     "name": "#%%\n"
    }
   }
  }
 ],
 "metadata": {
  "kernelspec": {
   "display_name": "Python 3",
   "language": "python",
   "name": "python3"
  },
  "language_info": {
   "codemirror_mode": {
    "name": "ipython",
    "version": 2
   },
   "file_extension": ".py",
   "mimetype": "text/x-python",
   "name": "python",
   "nbconvert_exporter": "python",
   "pygments_lexer": "ipython2",
   "version": "2.7.6"
  }
 },
 "nbformat": 4,
 "nbformat_minor": 0
}