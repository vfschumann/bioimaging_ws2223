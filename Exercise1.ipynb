{
 "cells": [
  {
   "cell_type": "markdown",
   "source": [
    "# Bioimaging WS22/23\n",
    "## Exercise 1 - Intro to Python\n",
    "### 28/10/2022"
   ],
   "metadata": {
    "collapsed": false,
    "pycharm": {
     "name": "#%% md\n"
    }
   }
  },
  {
   "cell_type": "code",
   "execution_count": 1,
   "outputs": [],
   "source": [
    "import skimage\n",
    "import pandas\n",
    "import matplotlib"
   ],
   "metadata": {
    "collapsed": false,
    "pycharm": {
     "name": "#%%\n"
    }
   }
  },
  {
   "cell_type": "markdown",
   "source": [
    "## Python as a calculator"
   ],
   "metadata": {
    "collapsed": false,
    "pycharm": {
     "name": "#%% md\n"
    }
   }
  },
  {
   "cell_type": "code",
   "execution_count": 6,
   "outputs": [
    {
     "name": "stdout",
     "output_type": "stream",
     "text": [
      "2\n",
      "1024\n",
      "1.681792830507429\n",
      "HelloWorld\n"
     ]
    }
   ],
   "source": [
    "# 1+1\n",
    "sum = 1+1\n",
    "print(sum)\n",
    "\n",
    "# 2^10\n",
    "potenz = 2**10\n",
    "print(potenz)\n",
    "\n",
    "# cubic root of 8\n",
    "root = 8**(1/4)\n",
    "print(root)\n",
    "\n",
    "# string concat\n",
    "string_ = \"Hello\" + \"World\"\n",
    "print(string_)"
   ],
   "metadata": {
    "collapsed": false,
    "pycharm": {
     "name": "#%%\n"
    }
   }
  },
  {
   "cell_type": "markdown",
   "source": [
    "## Numbers"
   ],
   "metadata": {
    "collapsed": false,
    "pycharm": {
     "name": "#%% md\n"
    }
   }
  },
  {
   "cell_type": "code",
   "execution_count": 14,
   "outputs": [
    {
     "name": "stdout",
     "output_type": "stream",
     "text": [
      "2.3333333333333335 : float\n",
      "2 : integer\n",
      "1 : modulo, returns remainder\n",
      "2.0 : float again\n"
     ]
    }
   ],
   "source": [
    "print(7 / 3, \": float\")\n",
    "print(7//3, \": integer\")\n",
    "print(7%3, \": modulo, returns remainder\")\n",
    "print(4/2, \": float again\")\n"
   ],
   "metadata": {
    "collapsed": false,
    "pycharm": {
     "name": "#%%\n"
    }
   }
  },
  {
   "cell_type": "markdown",
   "source": [
    "## Variables"
   ],
   "metadata": {
    "collapsed": false,
    "pycharm": {
     "name": "#%% md\n"
    }
   }
  },
  {
   "cell_type": "code",
   "execution_count": 16,
   "outputs": [
    {
     "name": "stdout",
     "output_type": "stream",
     "text": [
      "Hello world!\n",
      "Hello world! My name ist Vic.\n",
      "5.5\n"
     ]
    }
   ],
   "source": [
    "a = \"Hello world!\"\n",
    "print(a)\n",
    "\n",
    "# append string variable\n",
    "a_append = a + \" My name ist Vic.\"\n",
    "print(a_append)\n",
    "\n",
    "# int variables\n",
    "b = 2\n",
    "c = 3.5\n",
    "d = b+c\n",
    "print(d)"
   ],
   "metadata": {
    "collapsed": false,
    "pycharm": {
     "name": "#%%\n"
    }
   }
  },
  {
   "cell_type": "markdown",
   "source": [
    "## Modules"
   ],
   "metadata": {
    "collapsed": false,
    "pycharm": {
     "name": "#%% md\n"
    }
   }
  },
  {
   "cell_type": "code",
   "execution_count": 18,
   "outputs": [],
   "source": [
    "# only import pi\n",
    "from math import pi\n",
    "print(pi)"
   ],
   "metadata": {
    "collapsed": false,
    "pycharm": {
     "name": "#%%\n"
    }
   }
  },
  {
   "cell_type": "code",
   "execution_count": 5,
   "outputs": [
    {
     "name": "stdout",
     "output_type": "stream",
     "text": [
      "the area of a circle with radius = 5cm is: 7.02 cm\n"
     ]
    }
   ],
   "source": [
    "# import everything\n",
    "import math\n",
    "\n",
    "# get pi\n",
    "pi = math.pi\n",
    "\n",
    "# calc circle area\n",
    "r = 5\n",
    "A = pi * math.sqrt(5)\n",
    "print(f\"the area of a circle with radius = 5cm is: {A:.2f} cm\")"
   ],
   "metadata": {
    "collapsed": false,
    "pycharm": {
     "name": "#%%\n"
    }
   }
  },
  {
   "cell_type": "code",
   "execution_count": null,
   "outputs": [],
   "source": [],
   "metadata": {
    "collapsed": false,
    "pycharm": {
     "name": "#%%\n"
    }
   }
  }
 ],
 "metadata": {
  "kernelspec": {
   "name": "python3",
   "language": "python",
   "display_name": "Python 3 (ipykernel)"
  },
  "language_info": {
   "codemirror_mode": {
    "name": "ipython",
    "version": 2
   },
   "file_extension": ".py",
   "mimetype": "text/x-python",
   "name": "python",
   "nbconvert_exporter": "python",
   "pygments_lexer": "ipython2",
   "version": "2.7.6"
  }
 },
 "nbformat": 4,
 "nbformat_minor": 0
}