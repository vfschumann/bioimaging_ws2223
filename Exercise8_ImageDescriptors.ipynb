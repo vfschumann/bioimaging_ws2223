{
 "cells": [
  {
   "cell_type": "markdown",
   "source": [
    "# Imports"
   ],
   "metadata": {
    "collapsed": false,
    "pycharm": {
     "name": "#%% md\n"
    }
   }
  },
  {
   "cell_type": "code",
   "execution_count": 2,
   "outputs": [],
   "source": [
    "from skimage.io import imread,imshow\n",
    "from skimage.color import rgb2gray\n",
    "from skimage.filters import threshold_otsu\n",
    "from skimage.morphology import remove_small_objects\n",
    "from skimage.measure import label\n",
    "from skimage.measure import regionprops\n",
    "import pandas as pd\n",
    "import numpy as np"
   ],
   "metadata": {
    "collapsed": false,
    "pycharm": {
     "name": "#%%\n"
    }
   }
  },
  {
   "cell_type": "markdown",
   "source": [
    "# Counting objects\n",
    "Load the seed images Barley seeds 1.jpg and Barley seeds 2.jpg representing two different\n",
    "genotypes. Segment the seeds, make sure to filter out all background noise."
   ],
   "metadata": {
    "collapsed": false,
    "pycharm": {
     "name": "#%% md\n"
    }
   }
  },
  {
   "cell_type": "code",
   "execution_count": 3,
   "outputs": [
    {
     "name": "stdout",
     "output_type": "stream",
     "text": [
      "6974.12\n",
      "5322.76\n"
     ]
    }
   ],
   "source": [
    "\n",
    "rgb1 = imread('Data/Barley_seeds_1.jpg')\n",
    "gray1 = rgb2gray(rgb1)\n",
    "bw1 = gray1 > threshold_otsu(gray1)\n",
    "bw1 = remove_small_objects(bw1, 500)\n",
    "l1 = label(bw1)\n",
    "nb1 = len(np.unique(l1))-1 # number of seeds, label 0 is background\n",
    "\n",
    "\n",
    "\n",
    "rgb2 = imread('Data/Barley_seeds_2.jpg')\n",
    "gray2 = rgb2gray(rgb2)\n",
    "bw2 = gray2 > threshold_otsu(gray2)\n",
    "bw2 = remove_small_objects(bw2, 500)\n",
    "l2 = label(bw2)\n",
    "nb2 = len(np.unique(l2))-1\n",
    "\n",
    "\n",
    "\n",
    "sizes1 = []\n",
    "for i in range(1,nb1+1):\n",
    "    sizes1.append(np.sum(l1==i))\n",
    "\n",
    "sizes2 = []\n",
    "for i in range(1,nb2+1):\n",
    "    sizes2.append(np.sum(l2==i))\n",
    "\n",
    "print(np.mean(sizes1))\n",
    "print(np.mean(sizes2))"
   ],
   "metadata": {
    "collapsed": false,
    "pycharm": {
     "name": "#%%\n"
    }
   }
  },
  {
   "cell_type": "markdown",
   "source": [
    "# Extracting object properties"
   ],
   "metadata": {
    "collapsed": false,
    "pycharm": {
     "name": "#%% md\n"
    }
   }
  }
 ],
 "metadata": {
  "kernelspec": {
   "display_name": "Python 3",
   "language": "python",
   "name": "python3"
  },
  "language_info": {
   "codemirror_mode": {
    "name": "ipython",
    "version": 2
   },
   "file_extension": ".py",
   "mimetype": "text/x-python",
   "name": "python",
   "nbconvert_exporter": "python",
   "pygments_lexer": "ipython2",
   "version": "2.7.6"
  }
 },
 "nbformat": 4,
 "nbformat_minor": 0
}